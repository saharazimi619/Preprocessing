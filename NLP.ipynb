{
  "nbformat": 4,
  "nbformat_minor": 0,
  "metadata": {
    "colab": {
      "provenance": [],
      "authorship_tag": "ABX9TyMOzavZaUdA/bdiLDS0NSNd",
      "include_colab_link": true
    },
    "kernelspec": {
      "name": "python3",
      "display_name": "Python 3"
    },
    "language_info": {
      "name": "python"
    }
  },
  "cells": [
    {
      "cell_type": "markdown",
      "metadata": {
        "id": "view-in-github",
        "colab_type": "text"
      },
      "source": [
        "<a href=\"https://colab.research.google.com/github/saharazimi619/Preprocessing/blob/main/NLP.ipynb\" target=\"_parent\"><img src=\"https://colab.research.google.com/assets/colab-badge.svg\" alt=\"Open In Colab\"/></a>"
      ]
    },
    {
      "cell_type": "code",
      "execution_count": 1,
      "metadata": {
        "colab": {
          "base_uri": "https://localhost:8080/"
        },
        "id": "NGF6VH1YdtvX",
        "outputId": "995b7686-1c8b-4637-87e7-da821053da4f"
      },
      "outputs": [
        {
          "output_type": "stream",
          "name": "stderr",
          "text": [
            "[nltk_data] Downloading package punkt to /root/nltk_data...\n",
            "[nltk_data]   Unzipping tokenizers/punkt.zip.\n"
          ]
        },
        {
          "output_type": "execute_result",
          "data": {
            "text/plain": [
              "True"
            ]
          },
          "metadata": {},
          "execution_count": 1
        }
      ],
      "source": [
        "import nltk\n",
        "nltk.download('punkt')"
      ]
    },
    {
      "cell_type": "code",
      "source": [
        "paragraph = \"\"\"In the bustling city of New York, where the streets never sleep, a young entrepreneur named Emily had a dream of revolutionizing the way people shopped for fashion. After years of working in the corporate world, she decided to take a leap of faith and start her own online clothing boutique.\n",
        "\n",
        "Emily's vision was to create a platform that not only offered the latest trends and designer pieces, but also provided a personalized shopping experience for her customers. She knew that the key to success in the highly competitive fashion industry was to offer something unique and tailored to the individual.\n",
        "\n",
        "With a keen eye for detail and a passion for fashion, Emily set out to curate a collection of clothing and accessories that would appeal to a diverse range of tastes and styles. She scoured the globe, visiting fashion capitals like Paris, Milan, and Tokyo, to discover emerging designers and unique pieces that her customers wouldn't find anywhere else.\n",
        "\n",
        "As Emily's online store began to take shape, she realized that building a successful business was about more than just selling clothes. It was about fostering a community of fashion-forward individuals who shared her love for style and self-expression. She launched a blog on her website, where she shared her insights on the latest trends, styling tips, and behind-the-scenes stories from the world of fashion.\n",
        "\n",
        "The response from her customers was overwhelming. People flocked to Emily's online boutique, drawn in by the curated collection and the personalized shopping experience. They loved the fact that they could discover new brands and unique pieces that they wouldn't find at the mainstream retailers.\n",
        "\n",
        "As the business continued to grow, Emily knew that she needed to scale her operations to keep up with the demand. She hired a team of passionate fashion enthusiasts who shared her vision and helped to expand the reach of her online boutique. Together, they worked tirelessly to ensure that every customer who visited the site had a seamless and enjoyable shopping experience.\n",
        "\n",
        "One of the keys to Emily's success was her ability to stay ahead of the curve when it came to fashion trends. She constantly monitored the industry, attending fashion shows, collaborating with influencers, and analyzing data to identify the next big thing. This allowed her to stock her virtual shelves with the latest and greatest fashion items, ensuring that her customers were always on the cutting edge of style.\n",
        "\n",
        "But Emily's success wasn't just about the clothes she sold; it was also about the community she built. She fostered a sense of belonging among her customers, encouraging them to share their own style stories and connect with one another through the platform. This created a loyal customer base that not only shopped at her online boutique but also actively engaged with the brand and its social media channels.\n",
        "\n",
        "As Emily's business continued to grow, she knew that she had only scratched the surface of what was possible. With a team of passionate and talented individuals behind her, she was determined to continue innovating and pushing the boundaries of what was possible in the world of online fashion retail.\"\"\"\n"
      ],
      "metadata": {
        "id": "R99KxTegeGRv"
      },
      "execution_count": 45,
      "outputs": []
    },
    {
      "cell_type": "code",
      "source": [
        "#tokenizing sentences\n",
        "sentences = nltk.sent_tokenize(paragraph)\n",
        "sentences"
      ],
      "metadata": {
        "colab": {
          "base_uri": "https://localhost:8080/"
        },
        "id": "hxLIjhL6h13p",
        "outputId": "12eb2867-66c1-4342-a324-ccdf03e913d2"
      },
      "execution_count": 46,
      "outputs": [
        {
          "output_type": "execute_result",
          "data": {
            "text/plain": [
              "['In the bustling city of New York, where the streets never sleep, a young entrepreneur named Emily had a dream of revolutionizing the way people shopped for fashion.',\n",
              " 'After years of working in the corporate world, she decided to take a leap of faith and start her own online clothing boutique.',\n",
              " \"Emily's vision was to create a platform that not only offered the latest trends and designer pieces, but also provided a personalized shopping experience for her customers.\",\n",
              " 'She knew that the key to success in the highly competitive fashion industry was to offer something unique and tailored to the individual.',\n",
              " 'With a keen eye for detail and a passion for fashion, Emily set out to curate a collection of clothing and accessories that would appeal to a diverse range of tastes and styles.',\n",
              " \"She scoured the globe, visiting fashion capitals like Paris, Milan, and Tokyo, to discover emerging designers and unique pieces that her customers wouldn't find anywhere else.\",\n",
              " \"As Emily's online store began to take shape, she realized that building a successful business was about more than just selling clothes.\",\n",
              " 'It was about fostering a community of fashion-forward individuals who shared her love for style and self-expression.',\n",
              " 'She launched a blog on her website, where she shared her insights on the latest trends, styling tips, and behind-the-scenes stories from the world of fashion.',\n",
              " 'The response from her customers was overwhelming.',\n",
              " \"People flocked to Emily's online boutique, drawn in by the curated collection and the personalized shopping experience.\",\n",
              " \"They loved the fact that they could discover new brands and unique pieces that they wouldn't find at the mainstream retailers.\",\n",
              " 'As the business continued to grow, Emily knew that she needed to scale her operations to keep up with the demand.',\n",
              " 'She hired a team of passionate fashion enthusiasts who shared her vision and helped to expand the reach of her online boutique.',\n",
              " 'Together, they worked tirelessly to ensure that every customer who visited the site had a seamless and enjoyable shopping experience.',\n",
              " \"One of the keys to Emily's success was her ability to stay ahead of the curve when it came to fashion trends.\",\n",
              " 'She constantly monitored the industry, attending fashion shows, collaborating with influencers, and analyzing data to identify the next big thing.',\n",
              " 'This allowed her to stock her virtual shelves with the latest and greatest fashion items, ensuring that her customers were always on the cutting edge of style.',\n",
              " \"But Emily's success wasn't just about the clothes she sold; it was also about the community she built.\",\n",
              " 'She fostered a sense of belonging among her customers, encouraging them to share their own style stories and connect with one another through the platform.',\n",
              " 'This created a loyal customer base that not only shopped at her online boutique but also actively engaged with the brand and its social media channels.',\n",
              " \"As Emily's business continued to grow, she knew that she had only scratched the surface of what was possible.\",\n",
              " 'With a team of passionate and talented individuals behind her, she was determined to continue innovating and pushing the boundaries of what was possible in the world of online fashion retail.']"
            ]
          },
          "metadata": {},
          "execution_count": 46
        }
      ]
    },
    {
      "cell_type": "code",
      "source": [
        "#tokenizing words\n",
        "words = nltk.word_tokenize(paragraph)\n",
        "words"
      ],
      "metadata": {
        "colab": {
          "base_uri": "https://localhost:8080/"
        },
        "id": "B9lX16-zigNJ",
        "outputId": "f4fa14a9-d531-4b75-e4e2-b0977187b4e1"
      },
      "execution_count": 47,
      "outputs": [
        {
          "output_type": "execute_result",
          "data": {
            "text/plain": [
              "['In',\n",
              " 'the',\n",
              " 'bustling',\n",
              " 'city',\n",
              " 'of',\n",
              " 'New',\n",
              " 'York',\n",
              " ',',\n",
              " 'where',\n",
              " 'the',\n",
              " 'streets',\n",
              " 'never',\n",
              " 'sleep',\n",
              " ',',\n",
              " 'a',\n",
              " 'young',\n",
              " 'entrepreneur',\n",
              " 'named',\n",
              " 'Emily',\n",
              " 'had',\n",
              " 'a',\n",
              " 'dream',\n",
              " 'of',\n",
              " 'revolutionizing',\n",
              " 'the',\n",
              " 'way',\n",
              " 'people',\n",
              " 'shopped',\n",
              " 'for',\n",
              " 'fashion',\n",
              " '.',\n",
              " 'After',\n",
              " 'years',\n",
              " 'of',\n",
              " 'working',\n",
              " 'in',\n",
              " 'the',\n",
              " 'corporate',\n",
              " 'world',\n",
              " ',',\n",
              " 'she',\n",
              " 'decided',\n",
              " 'to',\n",
              " 'take',\n",
              " 'a',\n",
              " 'leap',\n",
              " 'of',\n",
              " 'faith',\n",
              " 'and',\n",
              " 'start',\n",
              " 'her',\n",
              " 'own',\n",
              " 'online',\n",
              " 'clothing',\n",
              " 'boutique',\n",
              " '.',\n",
              " 'Emily',\n",
              " \"'s\",\n",
              " 'vision',\n",
              " 'was',\n",
              " 'to',\n",
              " 'create',\n",
              " 'a',\n",
              " 'platform',\n",
              " 'that',\n",
              " 'not',\n",
              " 'only',\n",
              " 'offered',\n",
              " 'the',\n",
              " 'latest',\n",
              " 'trends',\n",
              " 'and',\n",
              " 'designer',\n",
              " 'pieces',\n",
              " ',',\n",
              " 'but',\n",
              " 'also',\n",
              " 'provided',\n",
              " 'a',\n",
              " 'personalized',\n",
              " 'shopping',\n",
              " 'experience',\n",
              " 'for',\n",
              " 'her',\n",
              " 'customers',\n",
              " '.',\n",
              " 'She',\n",
              " 'knew',\n",
              " 'that',\n",
              " 'the',\n",
              " 'key',\n",
              " 'to',\n",
              " 'success',\n",
              " 'in',\n",
              " 'the',\n",
              " 'highly',\n",
              " 'competitive',\n",
              " 'fashion',\n",
              " 'industry',\n",
              " 'was',\n",
              " 'to',\n",
              " 'offer',\n",
              " 'something',\n",
              " 'unique',\n",
              " 'and',\n",
              " 'tailored',\n",
              " 'to',\n",
              " 'the',\n",
              " 'individual',\n",
              " '.',\n",
              " 'With',\n",
              " 'a',\n",
              " 'keen',\n",
              " 'eye',\n",
              " 'for',\n",
              " 'detail',\n",
              " 'and',\n",
              " 'a',\n",
              " 'passion',\n",
              " 'for',\n",
              " 'fashion',\n",
              " ',',\n",
              " 'Emily',\n",
              " 'set',\n",
              " 'out',\n",
              " 'to',\n",
              " 'curate',\n",
              " 'a',\n",
              " 'collection',\n",
              " 'of',\n",
              " 'clothing',\n",
              " 'and',\n",
              " 'accessories',\n",
              " 'that',\n",
              " 'would',\n",
              " 'appeal',\n",
              " 'to',\n",
              " 'a',\n",
              " 'diverse',\n",
              " 'range',\n",
              " 'of',\n",
              " 'tastes',\n",
              " 'and',\n",
              " 'styles',\n",
              " '.',\n",
              " 'She',\n",
              " 'scoured',\n",
              " 'the',\n",
              " 'globe',\n",
              " ',',\n",
              " 'visiting',\n",
              " 'fashion',\n",
              " 'capitals',\n",
              " 'like',\n",
              " 'Paris',\n",
              " ',',\n",
              " 'Milan',\n",
              " ',',\n",
              " 'and',\n",
              " 'Tokyo',\n",
              " ',',\n",
              " 'to',\n",
              " 'discover',\n",
              " 'emerging',\n",
              " 'designers',\n",
              " 'and',\n",
              " 'unique',\n",
              " 'pieces',\n",
              " 'that',\n",
              " 'her',\n",
              " 'customers',\n",
              " 'would',\n",
              " \"n't\",\n",
              " 'find',\n",
              " 'anywhere',\n",
              " 'else',\n",
              " '.',\n",
              " 'As',\n",
              " 'Emily',\n",
              " \"'s\",\n",
              " 'online',\n",
              " 'store',\n",
              " 'began',\n",
              " 'to',\n",
              " 'take',\n",
              " 'shape',\n",
              " ',',\n",
              " 'she',\n",
              " 'realized',\n",
              " 'that',\n",
              " 'building',\n",
              " 'a',\n",
              " 'successful',\n",
              " 'business',\n",
              " 'was',\n",
              " 'about',\n",
              " 'more',\n",
              " 'than',\n",
              " 'just',\n",
              " 'selling',\n",
              " 'clothes',\n",
              " '.',\n",
              " 'It',\n",
              " 'was',\n",
              " 'about',\n",
              " 'fostering',\n",
              " 'a',\n",
              " 'community',\n",
              " 'of',\n",
              " 'fashion-forward',\n",
              " 'individuals',\n",
              " 'who',\n",
              " 'shared',\n",
              " 'her',\n",
              " 'love',\n",
              " 'for',\n",
              " 'style',\n",
              " 'and',\n",
              " 'self-expression',\n",
              " '.',\n",
              " 'She',\n",
              " 'launched',\n",
              " 'a',\n",
              " 'blog',\n",
              " 'on',\n",
              " 'her',\n",
              " 'website',\n",
              " ',',\n",
              " 'where',\n",
              " 'she',\n",
              " 'shared',\n",
              " 'her',\n",
              " 'insights',\n",
              " 'on',\n",
              " 'the',\n",
              " 'latest',\n",
              " 'trends',\n",
              " ',',\n",
              " 'styling',\n",
              " 'tips',\n",
              " ',',\n",
              " 'and',\n",
              " 'behind-the-scenes',\n",
              " 'stories',\n",
              " 'from',\n",
              " 'the',\n",
              " 'world',\n",
              " 'of',\n",
              " 'fashion',\n",
              " '.',\n",
              " 'The',\n",
              " 'response',\n",
              " 'from',\n",
              " 'her',\n",
              " 'customers',\n",
              " 'was',\n",
              " 'overwhelming',\n",
              " '.',\n",
              " 'People',\n",
              " 'flocked',\n",
              " 'to',\n",
              " 'Emily',\n",
              " \"'s\",\n",
              " 'online',\n",
              " 'boutique',\n",
              " ',',\n",
              " 'drawn',\n",
              " 'in',\n",
              " 'by',\n",
              " 'the',\n",
              " 'curated',\n",
              " 'collection',\n",
              " 'and',\n",
              " 'the',\n",
              " 'personalized',\n",
              " 'shopping',\n",
              " 'experience',\n",
              " '.',\n",
              " 'They',\n",
              " 'loved',\n",
              " 'the',\n",
              " 'fact',\n",
              " 'that',\n",
              " 'they',\n",
              " 'could',\n",
              " 'discover',\n",
              " 'new',\n",
              " 'brands',\n",
              " 'and',\n",
              " 'unique',\n",
              " 'pieces',\n",
              " 'that',\n",
              " 'they',\n",
              " 'would',\n",
              " \"n't\",\n",
              " 'find',\n",
              " 'at',\n",
              " 'the',\n",
              " 'mainstream',\n",
              " 'retailers',\n",
              " '.',\n",
              " 'As',\n",
              " 'the',\n",
              " 'business',\n",
              " 'continued',\n",
              " 'to',\n",
              " 'grow',\n",
              " ',',\n",
              " 'Emily',\n",
              " 'knew',\n",
              " 'that',\n",
              " 'she',\n",
              " 'needed',\n",
              " 'to',\n",
              " 'scale',\n",
              " 'her',\n",
              " 'operations',\n",
              " 'to',\n",
              " 'keep',\n",
              " 'up',\n",
              " 'with',\n",
              " 'the',\n",
              " 'demand',\n",
              " '.',\n",
              " 'She',\n",
              " 'hired',\n",
              " 'a',\n",
              " 'team',\n",
              " 'of',\n",
              " 'passionate',\n",
              " 'fashion',\n",
              " 'enthusiasts',\n",
              " 'who',\n",
              " 'shared',\n",
              " 'her',\n",
              " 'vision',\n",
              " 'and',\n",
              " 'helped',\n",
              " 'to',\n",
              " 'expand',\n",
              " 'the',\n",
              " 'reach',\n",
              " 'of',\n",
              " 'her',\n",
              " 'online',\n",
              " 'boutique',\n",
              " '.',\n",
              " 'Together',\n",
              " ',',\n",
              " 'they',\n",
              " 'worked',\n",
              " 'tirelessly',\n",
              " 'to',\n",
              " 'ensure',\n",
              " 'that',\n",
              " 'every',\n",
              " 'customer',\n",
              " 'who',\n",
              " 'visited',\n",
              " 'the',\n",
              " 'site',\n",
              " 'had',\n",
              " 'a',\n",
              " 'seamless',\n",
              " 'and',\n",
              " 'enjoyable',\n",
              " 'shopping',\n",
              " 'experience',\n",
              " '.',\n",
              " 'One',\n",
              " 'of',\n",
              " 'the',\n",
              " 'keys',\n",
              " 'to',\n",
              " 'Emily',\n",
              " \"'s\",\n",
              " 'success',\n",
              " 'was',\n",
              " 'her',\n",
              " 'ability',\n",
              " 'to',\n",
              " 'stay',\n",
              " 'ahead',\n",
              " 'of',\n",
              " 'the',\n",
              " 'curve',\n",
              " 'when',\n",
              " 'it',\n",
              " 'came',\n",
              " 'to',\n",
              " 'fashion',\n",
              " 'trends',\n",
              " '.',\n",
              " 'She',\n",
              " 'constantly',\n",
              " 'monitored',\n",
              " 'the',\n",
              " 'industry',\n",
              " ',',\n",
              " 'attending',\n",
              " 'fashion',\n",
              " 'shows',\n",
              " ',',\n",
              " 'collaborating',\n",
              " 'with',\n",
              " 'influencers',\n",
              " ',',\n",
              " 'and',\n",
              " 'analyzing',\n",
              " 'data',\n",
              " 'to',\n",
              " 'identify',\n",
              " 'the',\n",
              " 'next',\n",
              " 'big',\n",
              " 'thing',\n",
              " '.',\n",
              " 'This',\n",
              " 'allowed',\n",
              " 'her',\n",
              " 'to',\n",
              " 'stock',\n",
              " 'her',\n",
              " 'virtual',\n",
              " 'shelves',\n",
              " 'with',\n",
              " 'the',\n",
              " 'latest',\n",
              " 'and',\n",
              " 'greatest',\n",
              " 'fashion',\n",
              " 'items',\n",
              " ',',\n",
              " 'ensuring',\n",
              " 'that',\n",
              " 'her',\n",
              " 'customers',\n",
              " 'were',\n",
              " 'always',\n",
              " 'on',\n",
              " 'the',\n",
              " 'cutting',\n",
              " 'edge',\n",
              " 'of',\n",
              " 'style',\n",
              " '.',\n",
              " 'But',\n",
              " 'Emily',\n",
              " \"'s\",\n",
              " 'success',\n",
              " 'was',\n",
              " \"n't\",\n",
              " 'just',\n",
              " 'about',\n",
              " 'the',\n",
              " 'clothes',\n",
              " 'she',\n",
              " 'sold',\n",
              " ';',\n",
              " 'it',\n",
              " 'was',\n",
              " 'also',\n",
              " 'about',\n",
              " 'the',\n",
              " 'community',\n",
              " 'she',\n",
              " 'built',\n",
              " '.',\n",
              " 'She',\n",
              " 'fostered',\n",
              " 'a',\n",
              " 'sense',\n",
              " 'of',\n",
              " 'belonging',\n",
              " 'among',\n",
              " 'her',\n",
              " 'customers',\n",
              " ',',\n",
              " 'encouraging',\n",
              " 'them',\n",
              " 'to',\n",
              " 'share',\n",
              " 'their',\n",
              " 'own',\n",
              " 'style',\n",
              " 'stories',\n",
              " 'and',\n",
              " 'connect',\n",
              " 'with',\n",
              " 'one',\n",
              " 'another',\n",
              " 'through',\n",
              " 'the',\n",
              " 'platform',\n",
              " '.',\n",
              " 'This',\n",
              " 'created',\n",
              " 'a',\n",
              " 'loyal',\n",
              " 'customer',\n",
              " 'base',\n",
              " 'that',\n",
              " 'not',\n",
              " 'only',\n",
              " 'shopped',\n",
              " 'at',\n",
              " 'her',\n",
              " 'online',\n",
              " 'boutique',\n",
              " 'but',\n",
              " 'also',\n",
              " 'actively',\n",
              " 'engaged',\n",
              " 'with',\n",
              " 'the',\n",
              " 'brand',\n",
              " 'and',\n",
              " 'its',\n",
              " 'social',\n",
              " 'media',\n",
              " 'channels',\n",
              " '.',\n",
              " 'As',\n",
              " 'Emily',\n",
              " \"'s\",\n",
              " 'business',\n",
              " 'continued',\n",
              " 'to',\n",
              " 'grow',\n",
              " ',',\n",
              " 'she',\n",
              " 'knew',\n",
              " 'that',\n",
              " 'she',\n",
              " 'had',\n",
              " 'only',\n",
              " 'scratched',\n",
              " 'the',\n",
              " 'surface',\n",
              " 'of',\n",
              " 'what',\n",
              " 'was',\n",
              " 'possible',\n",
              " '.',\n",
              " 'With',\n",
              " 'a',\n",
              " 'team',\n",
              " 'of',\n",
              " 'passionate',\n",
              " 'and',\n",
              " 'talented',\n",
              " 'individuals',\n",
              " 'behind',\n",
              " 'her',\n",
              " ',',\n",
              " 'she',\n",
              " 'was',\n",
              " 'determined',\n",
              " 'to',\n",
              " 'continue',\n",
              " 'innovating',\n",
              " 'and',\n",
              " 'pushing',\n",
              " 'the',\n",
              " 'boundaries',\n",
              " 'of',\n",
              " 'what',\n",
              " 'was',\n",
              " 'possible',\n",
              " 'in',\n",
              " 'the',\n",
              " 'world',\n",
              " 'of',\n",
              " 'online',\n",
              " 'fashion',\n",
              " 'retail',\n",
              " '.']"
            ]
          },
          "metadata": {},
          "execution_count": 47
        }
      ]
    },
    {
      "cell_type": "code",
      "source": [
        "from nltk.stem import PorterStemmer\n",
        "from nltk.corpus import stopwords\n",
        "nltk.download('stopwords')"
      ],
      "metadata": {
        "colab": {
          "base_uri": "https://localhost:8080/"
        },
        "id": "X-21kucZjbyQ",
        "outputId": "256b0eb9-8908-43e3-e81b-30386878dad1"
      },
      "execution_count": 48,
      "outputs": [
        {
          "output_type": "stream",
          "name": "stderr",
          "text": [
            "[nltk_data] Downloading package stopwords to /root/nltk_data...\n",
            "[nltk_data]   Package stopwords is already up-to-date!\n"
          ]
        },
        {
          "output_type": "execute_result",
          "data": {
            "text/plain": [
              "True"
            ]
          },
          "metadata": {},
          "execution_count": 48
        }
      ]
    },
    {
      "cell_type": "code",
      "source": [
        "stemmer = PorterStemmer()\n",
        "#stemming\n",
        "for i in range(len(sentences)):\n",
        "  words = nltk.word_tokenize(sentences[i])\n",
        "  words = [stemmer.stem(word) for word in words if word not in set(stopwords.words('english'))]\n",
        "  sentences[i] = ' '.join(words)"
      ],
      "metadata": {
        "id": "uff5lGf5j0gw"
      },
      "execution_count": 49,
      "outputs": []
    },
    {
      "cell_type": "code",
      "source": [
        "sentences[1]"
      ],
      "metadata": {
        "colab": {
          "base_uri": "https://localhost:8080/",
          "height": 36
        },
        "id": "rWufZTzFlt_6",
        "outputId": "62578b86-825e-4a36-aa25-86d4db6de8d5"
      },
      "execution_count": 50,
      "outputs": [
        {
          "output_type": "execute_result",
          "data": {
            "text/plain": [
              "'after year work corpor world , decid take leap faith start onlin cloth boutiqu .'"
            ],
            "application/vnd.google.colaboratory.intrinsic+json": {
              "type": "string"
            }
          },
          "metadata": {},
          "execution_count": 50
        }
      ]
    },
    {
      "cell_type": "code",
      "source": [
        "from nltk.stem import WordNetLemmatizer\n",
        "nltk.download('wordnet')"
      ],
      "metadata": {
        "colab": {
          "base_uri": "https://localhost:8080/"
        },
        "id": "D043CXPBmCJz",
        "outputId": "b687f144-b1f5-4dad-936c-9a74551ba7dc"
      },
      "execution_count": 51,
      "outputs": [
        {
          "output_type": "stream",
          "name": "stderr",
          "text": [
            "[nltk_data] Downloading package wordnet to /root/nltk_data...\n",
            "[nltk_data]   Package wordnet is already up-to-date!\n"
          ]
        },
        {
          "output_type": "execute_result",
          "data": {
            "text/plain": [
              "True"
            ]
          },
          "metadata": {},
          "execution_count": 51
        }
      ]
    },
    {
      "cell_type": "code",
      "source": [
        "lemmatizer = WordNetLemmatizer()\n",
        "sentencess = nltk.sent_tokenize(paragraph)\n",
        "#lemmatization\n",
        "for i in range(len(sentencess)):\n",
        "  words = nltk.word_tokenize(sentencess[i])\n",
        "  words = [lemmatizer.lemmatize(word) for word in words if word not in set(stopwords.words('english'))]\n",
        "  sentencess[i] = ' '.join(words)"
      ],
      "metadata": {
        "id": "VL-fe__8mXVn"
      },
      "execution_count": 52,
      "outputs": []
    },
    {
      "cell_type": "code",
      "source": [
        "sentencess[1]"
      ],
      "metadata": {
        "colab": {
          "base_uri": "https://localhost:8080/",
          "height": 36
        },
        "id": "oDyELQTcm-B4",
        "outputId": "827b6413-6abe-4774-fb47-8076d789cce9"
      },
      "execution_count": 53,
      "outputs": [
        {
          "output_type": "execute_result",
          "data": {
            "text/plain": [
              "'After year working corporate world , decided take leap faith start online clothing boutique .'"
            ],
            "application/vnd.google.colaboratory.intrinsic+json": {
              "type": "string"
            }
          },
          "metadata": {},
          "execution_count": 53
        }
      ]
    },
    {
      "cell_type": "code",
      "source": [
        "#cleaning the texts\n",
        "import re\n",
        "from nltk.corpus import stopwords\n",
        "from nltk.stem.porter import PorterStemmer\n",
        "from nltk.stem import WordNetLemmatizer\n",
        "ps = PorterStemmer()\n",
        "wordnet = WordNetLemmatizer()\n",
        "sentences = nltk.sent_tokenize(paragraph)\n",
        "corpus = []\n",
        "for i in range(len(sentences)):\n",
        "  review = re.sub('[^a_zA_Z]',' ',sentences[i])\n",
        "  review = review.lower()\n",
        "  review = review.split()\n",
        "  review = [ps.stem(word) for word in review if not word in set(stopwords.words('english'))]\n",
        "  review = ' '.join(review)\n",
        "  corpus.append(review)\n",
        "\n",
        "#creating the bag of words model\n",
        "from sklearn.feature_extraction.text import CountVectorizer\n",
        "cv = CountVectorizer(max_features = 1500)\n",
        "X = cv.fit_transform(corpus).toarray()"
      ],
      "metadata": {
        "colab": {
          "base_uri": "https://localhost:8080/",
          "height": 333
        },
        "id": "ZYvR4sVfoLms",
        "outputId": "28522bf0-842e-418f-be43-45b14575f9c8"
      },
      "execution_count": 54,
      "outputs": [
        {
          "output_type": "error",
          "ename": "ValueError",
          "evalue": "empty vocabulary; perhaps the documents only contain stop words",
          "traceback": [
            "\u001b[0;31m---------------------------------------------------------------------------\u001b[0m",
            "\u001b[0;31mValueError\u001b[0m                                Traceback (most recent call last)",
            "\u001b[0;32m<ipython-input-54-c6a530aba467>\u001b[0m in \u001b[0;36m<cell line: 21>\u001b[0;34m()\u001b[0m\n\u001b[1;32m     19\u001b[0m \u001b[0;32mfrom\u001b[0m \u001b[0msklearn\u001b[0m\u001b[0;34m.\u001b[0m\u001b[0mfeature_extraction\u001b[0m\u001b[0;34m.\u001b[0m\u001b[0mtext\u001b[0m \u001b[0;32mimport\u001b[0m \u001b[0mCountVectorizer\u001b[0m\u001b[0;34m\u001b[0m\u001b[0;34m\u001b[0m\u001b[0m\n\u001b[1;32m     20\u001b[0m \u001b[0mcv\u001b[0m \u001b[0;34m=\u001b[0m \u001b[0mCountVectorizer\u001b[0m\u001b[0;34m(\u001b[0m\u001b[0mmax_features\u001b[0m \u001b[0;34m=\u001b[0m \u001b[0;36m1500\u001b[0m\u001b[0;34m)\u001b[0m\u001b[0;34m\u001b[0m\u001b[0;34m\u001b[0m\u001b[0m\n\u001b[0;32m---> 21\u001b[0;31m \u001b[0mX\u001b[0m \u001b[0;34m=\u001b[0m \u001b[0mcv\u001b[0m\u001b[0;34m.\u001b[0m\u001b[0mfit_transform\u001b[0m\u001b[0;34m(\u001b[0m\u001b[0mcorpus\u001b[0m\u001b[0;34m)\u001b[0m\u001b[0;34m.\u001b[0m\u001b[0mtoarray\u001b[0m\u001b[0;34m(\u001b[0m\u001b[0;34m)\u001b[0m\u001b[0;34m\u001b[0m\u001b[0;34m\u001b[0m\u001b[0m\n\u001b[0m",
            "\u001b[0;32m/usr/local/lib/python3.10/dist-packages/sklearn/feature_extraction/text.py\u001b[0m in \u001b[0;36mfit_transform\u001b[0;34m(self, raw_documents, y)\u001b[0m\n\u001b[1;32m   1386\u001b[0m                     \u001b[0;32mbreak\u001b[0m\u001b[0;34m\u001b[0m\u001b[0;34m\u001b[0m\u001b[0m\n\u001b[1;32m   1387\u001b[0m \u001b[0;34m\u001b[0m\u001b[0m\n\u001b[0;32m-> 1388\u001b[0;31m         \u001b[0mvocabulary\u001b[0m\u001b[0;34m,\u001b[0m \u001b[0mX\u001b[0m \u001b[0;34m=\u001b[0m \u001b[0mself\u001b[0m\u001b[0;34m.\u001b[0m\u001b[0m_count_vocab\u001b[0m\u001b[0;34m(\u001b[0m\u001b[0mraw_documents\u001b[0m\u001b[0;34m,\u001b[0m \u001b[0mself\u001b[0m\u001b[0;34m.\u001b[0m\u001b[0mfixed_vocabulary_\u001b[0m\u001b[0;34m)\u001b[0m\u001b[0;34m\u001b[0m\u001b[0;34m\u001b[0m\u001b[0m\n\u001b[0m\u001b[1;32m   1389\u001b[0m \u001b[0;34m\u001b[0m\u001b[0m\n\u001b[1;32m   1390\u001b[0m         \u001b[0;32mif\u001b[0m \u001b[0mself\u001b[0m\u001b[0;34m.\u001b[0m\u001b[0mbinary\u001b[0m\u001b[0;34m:\u001b[0m\u001b[0;34m\u001b[0m\u001b[0;34m\u001b[0m\u001b[0m\n",
            "\u001b[0;32m/usr/local/lib/python3.10/dist-packages/sklearn/feature_extraction/text.py\u001b[0m in \u001b[0;36m_count_vocab\u001b[0;34m(self, raw_documents, fixed_vocab)\u001b[0m\n\u001b[1;32m   1292\u001b[0m             \u001b[0mvocabulary\u001b[0m \u001b[0;34m=\u001b[0m \u001b[0mdict\u001b[0m\u001b[0;34m(\u001b[0m\u001b[0mvocabulary\u001b[0m\u001b[0;34m)\u001b[0m\u001b[0;34m\u001b[0m\u001b[0;34m\u001b[0m\u001b[0m\n\u001b[1;32m   1293\u001b[0m             \u001b[0;32mif\u001b[0m \u001b[0;32mnot\u001b[0m \u001b[0mvocabulary\u001b[0m\u001b[0;34m:\u001b[0m\u001b[0;34m\u001b[0m\u001b[0;34m\u001b[0m\u001b[0m\n\u001b[0;32m-> 1294\u001b[0;31m                 raise ValueError(\n\u001b[0m\u001b[1;32m   1295\u001b[0m                     \u001b[0;34m\"empty vocabulary; perhaps the documents only contain stop words\"\u001b[0m\u001b[0;34m\u001b[0m\u001b[0;34m\u001b[0m\u001b[0m\n\u001b[1;32m   1296\u001b[0m                 )\n",
            "\u001b[0;31mValueError\u001b[0m: empty vocabulary; perhaps the documents only contain stop words"
          ]
        }
      ]
    },
    {
      "cell_type": "code",
      "source": [
        "X"
      ],
      "metadata": {
        "colab": {
          "base_uri": "https://localhost:8080/",
          "height": 146
        },
        "id": "QKtfD6s_y_wY",
        "outputId": "fe82a300-83b1-4f85-f372-6f18e0fefd40"
      },
      "execution_count": 55,
      "outputs": [
        {
          "output_type": "error",
          "ename": "NameError",
          "evalue": "name 'X' is not defined",
          "traceback": [
            "\u001b[0;31m---------------------------------------------------------------------------\u001b[0m",
            "\u001b[0;31mNameError\u001b[0m                                 Traceback (most recent call last)",
            "\u001b[0;32m<ipython-input-55-b5fec669aca1>\u001b[0m in \u001b[0;36m<cell line: 1>\u001b[0;34m()\u001b[0m\n\u001b[0;32m----> 1\u001b[0;31m \u001b[0mX\u001b[0m\u001b[0;34m\u001b[0m\u001b[0;34m\u001b[0m\u001b[0m\n\u001b[0m",
            "\u001b[0;31mNameError\u001b[0m: name 'X' is not defined"
          ]
        }
      ]
    },
    {
      "cell_type": "code",
      "source": [
        "sentencess = nltk.sent_tokenize(paragraph)\n",
        "corpus = []\n",
        "for i in range(len(sentences)):\n",
        "  review = re.sub('[^a_zA_Z]',' ',sentencess[i])\n",
        "  review = review.lower()\n",
        "  review = review.split()\n",
        "  review = [wordnet.lemmatize(word) for word in review if not word in set(stopwords.words('english'))]\n",
        "  review = ' '.join(review)\n",
        "  corpus.append(review)\n",
        "\n",
        "#creating the TF_IDF model\n",
        "from sklearn.feature_extraction.text import TfidfVectorizer\n",
        "tf = TfidfVectorizer()\n",
        "X = tf.fit_transform(corpus).toarray()"
      ],
      "metadata": {
        "colab": {
          "base_uri": "https://localhost:8080/",
          "height": 333
        },
        "id": "kxDRAU82zPYn",
        "outputId": "04766ffa-2da6-4640-f10e-eafc4e367662"
      },
      "execution_count": 56,
      "outputs": [
        {
          "output_type": "error",
          "ename": "ValueError",
          "evalue": "empty vocabulary; perhaps the documents only contain stop words",
          "traceback": [
            "\u001b[0;31m---------------------------------------------------------------------------\u001b[0m",
            "\u001b[0;31mValueError\u001b[0m                                Traceback (most recent call last)",
            "\u001b[0;32m<ipython-input-56-ef710ace8cbb>\u001b[0m in \u001b[0;36m<cell line: 14>\u001b[0;34m()\u001b[0m\n\u001b[1;32m     12\u001b[0m \u001b[0;32mfrom\u001b[0m \u001b[0msklearn\u001b[0m\u001b[0;34m.\u001b[0m\u001b[0mfeature_extraction\u001b[0m\u001b[0;34m.\u001b[0m\u001b[0mtext\u001b[0m \u001b[0;32mimport\u001b[0m \u001b[0mTfidfVectorizer\u001b[0m\u001b[0;34m\u001b[0m\u001b[0;34m\u001b[0m\u001b[0m\n\u001b[1;32m     13\u001b[0m \u001b[0mtf\u001b[0m \u001b[0;34m=\u001b[0m \u001b[0mTfidfVectorizer\u001b[0m\u001b[0;34m(\u001b[0m\u001b[0;34m)\u001b[0m\u001b[0;34m\u001b[0m\u001b[0;34m\u001b[0m\u001b[0m\n\u001b[0;32m---> 14\u001b[0;31m \u001b[0mX\u001b[0m \u001b[0;34m=\u001b[0m \u001b[0mtf\u001b[0m\u001b[0;34m.\u001b[0m\u001b[0mfit_transform\u001b[0m\u001b[0;34m(\u001b[0m\u001b[0mcorpus\u001b[0m\u001b[0;34m)\u001b[0m\u001b[0;34m.\u001b[0m\u001b[0mtoarray\u001b[0m\u001b[0;34m(\u001b[0m\u001b[0;34m)\u001b[0m\u001b[0;34m\u001b[0m\u001b[0;34m\u001b[0m\u001b[0m\n\u001b[0m",
            "\u001b[0;32m/usr/local/lib/python3.10/dist-packages/sklearn/feature_extraction/text.py\u001b[0m in \u001b[0;36mfit_transform\u001b[0;34m(self, raw_documents, y)\u001b[0m\n\u001b[1;32m   2131\u001b[0m             \u001b[0msublinear_tf\u001b[0m\u001b[0;34m=\u001b[0m\u001b[0mself\u001b[0m\u001b[0;34m.\u001b[0m\u001b[0msublinear_tf\u001b[0m\u001b[0;34m,\u001b[0m\u001b[0;34m\u001b[0m\u001b[0;34m\u001b[0m\u001b[0m\n\u001b[1;32m   2132\u001b[0m         )\n\u001b[0;32m-> 2133\u001b[0;31m         \u001b[0mX\u001b[0m \u001b[0;34m=\u001b[0m \u001b[0msuper\u001b[0m\u001b[0;34m(\u001b[0m\u001b[0;34m)\u001b[0m\u001b[0;34m.\u001b[0m\u001b[0mfit_transform\u001b[0m\u001b[0;34m(\u001b[0m\u001b[0mraw_documents\u001b[0m\u001b[0;34m)\u001b[0m\u001b[0;34m\u001b[0m\u001b[0;34m\u001b[0m\u001b[0m\n\u001b[0m\u001b[1;32m   2134\u001b[0m         \u001b[0mself\u001b[0m\u001b[0;34m.\u001b[0m\u001b[0m_tfidf\u001b[0m\u001b[0;34m.\u001b[0m\u001b[0mfit\u001b[0m\u001b[0;34m(\u001b[0m\u001b[0mX\u001b[0m\u001b[0;34m)\u001b[0m\u001b[0;34m\u001b[0m\u001b[0;34m\u001b[0m\u001b[0m\n\u001b[1;32m   2135\u001b[0m         \u001b[0;31m# X is already a transformed view of raw_documents so\u001b[0m\u001b[0;34m\u001b[0m\u001b[0;34m\u001b[0m\u001b[0m\n",
            "\u001b[0;32m/usr/local/lib/python3.10/dist-packages/sklearn/feature_extraction/text.py\u001b[0m in \u001b[0;36mfit_transform\u001b[0;34m(self, raw_documents, y)\u001b[0m\n\u001b[1;32m   1386\u001b[0m                     \u001b[0;32mbreak\u001b[0m\u001b[0;34m\u001b[0m\u001b[0;34m\u001b[0m\u001b[0m\n\u001b[1;32m   1387\u001b[0m \u001b[0;34m\u001b[0m\u001b[0m\n\u001b[0;32m-> 1388\u001b[0;31m         \u001b[0mvocabulary\u001b[0m\u001b[0;34m,\u001b[0m \u001b[0mX\u001b[0m \u001b[0;34m=\u001b[0m \u001b[0mself\u001b[0m\u001b[0;34m.\u001b[0m\u001b[0m_count_vocab\u001b[0m\u001b[0;34m(\u001b[0m\u001b[0mraw_documents\u001b[0m\u001b[0;34m,\u001b[0m \u001b[0mself\u001b[0m\u001b[0;34m.\u001b[0m\u001b[0mfixed_vocabulary_\u001b[0m\u001b[0;34m)\u001b[0m\u001b[0;34m\u001b[0m\u001b[0;34m\u001b[0m\u001b[0m\n\u001b[0m\u001b[1;32m   1389\u001b[0m \u001b[0;34m\u001b[0m\u001b[0m\n\u001b[1;32m   1390\u001b[0m         \u001b[0;32mif\u001b[0m \u001b[0mself\u001b[0m\u001b[0;34m.\u001b[0m\u001b[0mbinary\u001b[0m\u001b[0;34m:\u001b[0m\u001b[0;34m\u001b[0m\u001b[0;34m\u001b[0m\u001b[0m\n",
            "\u001b[0;32m/usr/local/lib/python3.10/dist-packages/sklearn/feature_extraction/text.py\u001b[0m in \u001b[0;36m_count_vocab\u001b[0;34m(self, raw_documents, fixed_vocab)\u001b[0m\n\u001b[1;32m   1292\u001b[0m             \u001b[0mvocabulary\u001b[0m \u001b[0;34m=\u001b[0m \u001b[0mdict\u001b[0m\u001b[0;34m(\u001b[0m\u001b[0mvocabulary\u001b[0m\u001b[0;34m)\u001b[0m\u001b[0;34m\u001b[0m\u001b[0;34m\u001b[0m\u001b[0m\n\u001b[1;32m   1293\u001b[0m             \u001b[0;32mif\u001b[0m \u001b[0;32mnot\u001b[0m \u001b[0mvocabulary\u001b[0m\u001b[0;34m:\u001b[0m\u001b[0;34m\u001b[0m\u001b[0;34m\u001b[0m\u001b[0m\n\u001b[0;32m-> 1294\u001b[0;31m                 raise ValueError(\n\u001b[0m\u001b[1;32m   1295\u001b[0m                     \u001b[0;34m\"empty vocabulary; perhaps the documents only contain stop words\"\u001b[0m\u001b[0;34m\u001b[0m\u001b[0;34m\u001b[0m\u001b[0m\n\u001b[1;32m   1296\u001b[0m                 )\n",
            "\u001b[0;31mValueError\u001b[0m: empty vocabulary; perhaps the documents only contain stop words"
          ]
        }
      ]
    },
    {
      "cell_type": "code",
      "source": [
        "X"
      ],
      "metadata": {
        "colab": {
          "base_uri": "https://localhost:8080/",
          "height": 146
        },
        "id": "n1OzZLQO00W4",
        "outputId": "17d0549d-98ac-4610-b070-8e928eff3a09"
      },
      "execution_count": 57,
      "outputs": [
        {
          "output_type": "error",
          "ename": "NameError",
          "evalue": "name 'X' is not defined",
          "traceback": [
            "\u001b[0;31m---------------------------------------------------------------------------\u001b[0m",
            "\u001b[0;31mNameError\u001b[0m                                 Traceback (most recent call last)",
            "\u001b[0;32m<ipython-input-57-b5fec669aca1>\u001b[0m in \u001b[0;36m<cell line: 1>\u001b[0;34m()\u001b[0m\n\u001b[0;32m----> 1\u001b[0;31m \u001b[0mX\u001b[0m\u001b[0;34m\u001b[0m\u001b[0;34m\u001b[0m\u001b[0m\n\u001b[0m",
            "\u001b[0;31mNameError\u001b[0m: name 'X' is not defined"
          ]
        }
      ]
    }
  ]
}